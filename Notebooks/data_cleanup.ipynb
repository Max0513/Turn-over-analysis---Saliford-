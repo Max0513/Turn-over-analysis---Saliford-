{
 "cells": [
  {
   "cell_type": "markdown",
   "metadata": {},
   "source": [
    "# Imports"
   ]
  },
  {
   "cell_type": "code",
   "execution_count": 18,
   "metadata": {},
   "outputs": [],
   "source": [
    "import pandas as pd\n",
    "import seaborn as sns\n",
    "import numpy as np\n",
    "import matplotlib.pyplot as plt\n",
    "import jinja2"
   ]
  },
  {
   "cell_type": "code",
   "execution_count": 19,
   "metadata": {},
   "outputs": [
    {
     "data": {
      "text/html": [
       "<div>\n",
       "<style scoped>\n",
       "    .dataframe tbody tr th:only-of-type {\n",
       "        vertical-align: middle;\n",
       "    }\n",
       "\n",
       "    .dataframe tbody tr th {\n",
       "        vertical-align: top;\n",
       "    }\n",
       "\n",
       "    .dataframe thead th {\n",
       "        text-align: right;\n",
       "    }\n",
       "</style>\n",
       "<table border=\"1\" class=\"dataframe\">\n",
       "  <thead>\n",
       "    <tr style=\"text-align: right;\">\n",
       "      <th></th>\n",
       "      <th>satisfaction_level</th>\n",
       "      <th>last_evaluation</th>\n",
       "      <th>number_project</th>\n",
       "      <th>average_montly_hours</th>\n",
       "      <th>time_spend_company</th>\n",
       "      <th>Work_accident</th>\n",
       "      <th>left</th>\n",
       "      <th>promotion_last_5years</th>\n",
       "      <th>Department</th>\n",
       "      <th>salary</th>\n",
       "    </tr>\n",
       "  </thead>\n",
       "  <tbody>\n",
       "    <tr>\n",
       "      <th>0</th>\n",
       "      <td>0.38</td>\n",
       "      <td>0.53</td>\n",
       "      <td>2</td>\n",
       "      <td>157</td>\n",
       "      <td>3</td>\n",
       "      <td>0</td>\n",
       "      <td>1</td>\n",
       "      <td>0</td>\n",
       "      <td>sales</td>\n",
       "      <td>low</td>\n",
       "    </tr>\n",
       "    <tr>\n",
       "      <th>1</th>\n",
       "      <td>0.80</td>\n",
       "      <td>0.86</td>\n",
       "      <td>5</td>\n",
       "      <td>262</td>\n",
       "      <td>6</td>\n",
       "      <td>0</td>\n",
       "      <td>1</td>\n",
       "      <td>0</td>\n",
       "      <td>sales</td>\n",
       "      <td>medium</td>\n",
       "    </tr>\n",
       "    <tr>\n",
       "      <th>2</th>\n",
       "      <td>0.11</td>\n",
       "      <td>0.88</td>\n",
       "      <td>7</td>\n",
       "      <td>272</td>\n",
       "      <td>4</td>\n",
       "      <td>0</td>\n",
       "      <td>1</td>\n",
       "      <td>0</td>\n",
       "      <td>sales</td>\n",
       "      <td>medium</td>\n",
       "    </tr>\n",
       "    <tr>\n",
       "      <th>3</th>\n",
       "      <td>0.72</td>\n",
       "      <td>0.87</td>\n",
       "      <td>5</td>\n",
       "      <td>223</td>\n",
       "      <td>5</td>\n",
       "      <td>0</td>\n",
       "      <td>1</td>\n",
       "      <td>0</td>\n",
       "      <td>sales</td>\n",
       "      <td>low</td>\n",
       "    </tr>\n",
       "    <tr>\n",
       "      <th>4</th>\n",
       "      <td>0.37</td>\n",
       "      <td>0.52</td>\n",
       "      <td>2</td>\n",
       "      <td>159</td>\n",
       "      <td>3</td>\n",
       "      <td>0</td>\n",
       "      <td>1</td>\n",
       "      <td>0</td>\n",
       "      <td>sales</td>\n",
       "      <td>low</td>\n",
       "    </tr>\n",
       "  </tbody>\n",
       "</table>\n",
       "</div>"
      ],
      "text/plain": [
       "   satisfaction_level  last_evaluation  number_project  average_montly_hours  \\\n",
       "0                0.38             0.53               2                   157   \n",
       "1                0.80             0.86               5                   262   \n",
       "2                0.11             0.88               7                   272   \n",
       "3                0.72             0.87               5                   223   \n",
       "4                0.37             0.52               2                   159   \n",
       "\n",
       "   time_spend_company  Work_accident  left  promotion_last_5years Department  \\\n",
       "0                   3              0     1                      0      sales   \n",
       "1                   6              0     1                      0      sales   \n",
       "2                   4              0     1                      0      sales   \n",
       "3                   5              0     1                      0      sales   \n",
       "4                   3              0     1                      0      sales   \n",
       "\n",
       "   salary  \n",
       "0     low  \n",
       "1  medium  \n",
       "2  medium  \n",
       "3     low  \n",
       "4     low  "
      ]
     },
     "execution_count": 19,
     "metadata": {},
     "output_type": "execute_result"
    }
   ],
   "source": [
    "path = 'C:/Users/max05/OneDrive/Bureau/DATA/_Portfolio/GCC_project/data/raw/'\n",
    "data = pd.read_csv(path+'HR_comma_sep.csv')\n",
    "data.head(5)"
   ]
  },
  {
   "cell_type": "markdown",
   "metadata": {},
   "source": [
    "# Initial look "
   ]
  },
  {
   "cell_type": "code",
   "execution_count": 20,
   "metadata": {},
   "outputs": [
    {
     "name": "stdout",
     "output_type": "stream",
     "text": [
      "<class 'pandas.core.frame.DataFrame'>\n",
      "RangeIndex: 14999 entries, 0 to 14998\n",
      "Data columns (total 10 columns):\n",
      " #   Column                 Non-Null Count  Dtype  \n",
      "---  ------                 --------------  -----  \n",
      " 0   satisfaction_level     14999 non-null  float64\n",
      " 1   last_evaluation        14999 non-null  float64\n",
      " 2   number_project         14999 non-null  int64  \n",
      " 3   average_montly_hours   14999 non-null  int64  \n",
      " 4   time_spend_company     14999 non-null  int64  \n",
      " 5   Work_accident          14999 non-null  int64  \n",
      " 6   left                   14999 non-null  int64  \n",
      " 7   promotion_last_5years  14999 non-null  int64  \n",
      " 8   Department             14999 non-null  object \n",
      " 9   salary                 14999 non-null  object \n",
      "dtypes: float64(2), int64(6), object(2)\n",
      "memory usage: 1.1+ MB\n"
     ]
    }
   ],
   "source": [
    "data.info()"
   ]
  },
  {
   "cell_type": "markdown",
   "metadata": {},
   "source": [
    "# Renaming columns\n",
    "\n",
    "Some column names are capitalised, others arn't"
   ]
  },
  {
   "cell_type": "code",
   "execution_count": 21,
   "metadata": {},
   "outputs": [],
   "source": [
    "df0 = data.rename(columns = {\n",
    "    'time_spend_company':'years_spent_company',\n",
    "    'Work_accident':'work_accident',\n",
    "    'Department':'department'\n",
    "})"
   ]
  },
  {
   "cell_type": "markdown",
   "metadata": {},
   "source": [
    "# Missing values"
   ]
  },
  {
   "cell_type": "code",
   "execution_count": 22,
   "metadata": {},
   "outputs": [
    {
     "data": {
      "text/plain": [
       "satisfaction_level       0\n",
       "last_evaluation          0\n",
       "number_project           0\n",
       "average_montly_hours     0\n",
       "years_spent_company      0\n",
       "work_accident            0\n",
       "left                     0\n",
       "promotion_last_5years    0\n",
       "department               0\n",
       "salary                   0\n",
       "dtype: int64"
      ]
     },
     "execution_count": 22,
     "metadata": {},
     "output_type": "execute_result"
    }
   ],
   "source": [
    "df0.isnull().sum()"
   ]
  },
  {
   "cell_type": "markdown",
   "metadata": {},
   "source": [
    "There are no missing values in the dataset "
   ]
  },
  {
   "cell_type": "markdown",
   "metadata": {},
   "source": [
    "# Duplicates"
   ]
  },
  {
   "cell_type": "code",
   "execution_count": 23,
   "metadata": {},
   "outputs": [
    {
     "name": "stdout",
     "output_type": "stream",
     "text": [
      "3008 duplicated values in dataset\n"
     ]
    }
   ],
   "source": [
    "print(f'{df0.duplicated().sum()} duplicated values in dataset')"
   ]
  },
  {
   "cell_type": "markdown",
   "metadata": {},
   "source": [
    "It seems highly unlikely that two employees would have the exact same scores on 11 different metrics.\n",
    "\n",
    "We could investigate further but droping duplicates seems a reasonable course in this situation"
   ]
  },
  {
   "cell_type": "code",
   "execution_count": 24,
   "metadata": {},
   "outputs": [
    {
     "data": {
      "text/plain": [
       "3008"
      ]
     },
     "execution_count": 24,
     "metadata": {},
     "output_type": "execute_result"
    }
   ],
   "source": [
    "df1 = df0.drop_duplicates(keep='first')\n",
    "#Chack if duplicates were removed\n",
    "df0.shape[0] - df1.shape[0]"
   ]
  },
  {
   "cell_type": "markdown",
   "metadata": {},
   "source": [
    "# Check for outliers "
   ]
  },
  {
   "cell_type": "code",
   "execution_count": 25,
   "metadata": {},
   "outputs": [
    {
     "data": {
      "image/png": "[encoded data removed]",
      "text/plain": [
       "<Figure size 1000x800 with 10 Axes>"
      ]
     },
     "metadata": {},
     "output_type": "display_data"
    }
   ],
   "source": [
    "fig,ax = plt.subplots(5,2,figsize=(10,8))\n",
    "\n",
    "#Boxplots of discrete and continuous variables \n",
    "sns.boxplot(data=df1,x='average_montly_hours',ax=ax[0,0])\n",
    "sns.boxplot(data=df1,x='number_project',ax=ax[1,0])\n",
    "sns.boxplot(data=df1,x='years_spent_company',ax=ax[2,0])\n",
    "sns.boxplot(data=df1,x='satisfaction_level',ax=ax[3,0])\n",
    "sns.boxplot(data=df1,x='last_evaluation',ax=ax[4,0])\n",
    "\n",
    "# plots divided by departures \n",
    "sns.boxplot(data=df1,x='average_montly_hours',hue='left',ax=ax[0,1])\n",
    "sns.boxplot(data=df1,x='number_project',hue='left',legend=None,ax=ax[1,1])\n",
    "sns.boxplot(data=df1,x='years_spent_company',hue='left',legend=None,ax=ax[2,1])\n",
    "sns.boxplot(data=df1,x='satisfaction_level',hue='left',legend=None,ax=ax[3,1])\n",
    "sns.boxplot(data=df1,x='last_evaluation',hue='left',legend=None,ax=ax[4,1])\n",
    "\n",
    "plt.tight_layout()"
   ]
  },
  {
   "cell_type": "markdown",
   "metadata": {},
   "source": [
    "Most outliers are present in the years_spent_company metric, particularily in the stayed category.\n",
    "\n",
    "There are allready some interesting paterns emerging in 'number_project','years_spent_company' and 'satisfaction_level' to be investigated later"
   ]
  },
  {
   "cell_type": "code",
   "execution_count": 26,
   "metadata": {},
   "outputs": [
    {
     "name": "stdout",
     "output_type": "stream",
     "text": [
      "824 outliers in years_spent_company column wich is 6.87% of the column\n"
     ]
    }
   ],
   "source": [
    "#   Checking how many outliers are present in years_spent_company\n",
    "\n",
    "upper_percentile = df1[['years_spent_company']].quantile(0.75).iloc[0]\n",
    "lower_percentile = df1[['years_spent_company']].quantile(0.25).iloc[0]\n",
    "iqr = upper_percentile-lower_percentile\n",
    "\n",
    "outliers_df = df1[(df1['years_spent_company']>upper_percentile + 1.5*iqr) | (df1['years_spent_company']<lower_percentile - 1.5*iqr)]\n",
    "\n",
    "print(f\"{outliers_df.shape[0]} outliers in years_spent_company column wich is {(outliers_df.shape[0]/df1.shape[0]*100):.2f}% of the column\")"
   ]
  },
  {
   "cell_type": "markdown",
   "metadata": {},
   "source": [
    "'years_spent_company' has 6.87% outliers in it. We will have to watch out when picking a model not to choose one sensitive to outliers"
   ]
  },
  {
   "cell_type": "markdown",
   "metadata": {},
   "source": [
    "## Inspection of categorical metrics and of dimensions"
   ]
  },
  {
   "cell_type": "markdown",
   "metadata": {},
   "source": [
    "## Correlation heatmap"
   ]
  },
  {
   "cell_type": "code",
   "execution_count": 27,
   "metadata": {},
   "outputs": [
    {
     "data": {
      "text/plain": [
       "<Axes: >"
      ]
     },
     "execution_count": 27,
     "metadata": {},
     "output_type": "execute_result"
    },
    {
     "data": {
      "image/png": "[encoded data removed]",
      "text/plain": [
       "<Figure size 640x480 with 2 Axes>"
      ]
     },
     "metadata": {},
     "output_type": "display_data"
    }
   ],
   "source": [
    "matrix = df1.corr(method='pearson',numeric_only=True)\n",
    "\n",
    "sns.heatmap(matrix,vmin=-1,vmax=1,annot=True,cmap='coolwarm')"
   ]
  },
  {
   "cell_type": "markdown",
   "metadata": {},
   "source": [
    "# Left column inspection"
   ]
  },
  {
   "cell_type": "code",
   "execution_count": 28,
   "metadata": {},
   "outputs": [
    {
     "data": {
      "text/plain": [
       "left\n",
       "0    0.833959\n",
       "1    0.166041\n",
       "Name: proportion, dtype: float64"
      ]
     },
     "execution_count": 28,
     "metadata": {},
     "output_type": "execute_result"
    }
   ],
   "source": [
    "df1['left'].value_counts(normalize=True)"
   ]
  },
  {
   "cell_type": "markdown",
   "metadata": {},
   "source": [
    "# Work_accident column inspection"
   ]
  },
  {
   "cell_type": "code",
   "execution_count": 29,
   "metadata": {},
   "outputs": [
    {
     "data": {
      "text/plain": [
       "work_accident\n",
       "0    0.845718\n",
       "1    0.154282\n",
       "Name: proportion, dtype: float64"
      ]
     },
     "execution_count": 29,
     "metadata": {},
     "output_type": "execute_result"
    }
   ],
   "source": [
    "df1['work_accident'].value_counts(normalize=True)"
   ]
  },
  {
   "cell_type": "code",
   "execution_count": 30,
   "metadata": {},
   "outputs": [],
   "source": [
    "#   While we are at it, we might as well check the relation between work_accidents and departures\n",
    "work_accident_df = (\n",
    "    \n",
    "    pd.DataFrame(\n",
    "    df1[['work_accident','left']]\n",
    "    .groupby(['work_accident'])\n",
    "    .value_counts(normalize=False)\n",
    "    .unstack()\n",
    "    )\n",
    ")"
   ]
  },
  {
   "cell_type": "code",
   "execution_count": 31,
   "metadata": {},
   "outputs": [
    {
     "data": {
      "text/plain": [
       "<Axes: xlabel='work_accident'>"
      ]
     },
     "execution_count": 31,
     "metadata": {},
     "output_type": "execute_result"
    },
    {
     "data": {
      "image/png": "[encoded data removed]",
      "text/plain": [
       "<Figure size 640x480 with 1 Axes>"
      ]
     },
     "metadata": {},
     "output_type": "display_data"
    }
   ],
   "source": [
    "work_accident_df.plot.bar(stacked=True)"
   ]
  },
  {
   "cell_type": "markdown",
   "metadata": {},
   "source": [
    "Based on this data, victims of a work accident seem more likely to leave. Mesures could be tought of to mitigate this issue."
   ]
  },
  {
   "cell_type": "code",
   "execution_count": 33,
   "metadata": {},
   "outputs": [
    {
     "data": {
      "text/plain": [
       "<Axes: xlabel='average_montly_hours', ylabel='Count'>"
      ]
     },
     "execution_count": 33,
     "metadata": {},
     "output_type": "execute_result"
    },
    {
     "data": {
      "image/png": "[encoded data removed]",
      "text/plain": [
       "<Figure size 640x480 with 1 Axes>"
      ]
     },
     "metadata": {},
     "output_type": "display_data"
    }
   ],
   "source": [
    "sns.histplot(df1,x='average_montly_hours',hue='work_accident',multiple='stack')"
   ]
  },
  {
   "cell_type": "code",
   "execution_count": 34,
   "metadata": {},
   "outputs": [
    {
     "name": "stderr",
     "output_type": "stream",
     "text": [
      "C:\\Users\\max05\\AppData\\Local\\Temp\\ipykernel_7400\\1167378915.py:4: FutureWarning: The default of observed=False is deprecated and will be changed to True in a future version of pandas. Pass observed=False to retain current behavior or observed=True to adopt the future default and silence this warning.\n",
      "  df1.groupby([pd.cut(df1['average_montly_hours'],work_bins),'work_accident'])\n"
     ]
    },
    {
     "data": {
      "text/html": [
       "<div>\n",
       "<style scoped>\n",
       "    .dataframe tbody tr th:only-of-type {\n",
       "        vertical-align: middle;\n",
       "    }\n",
       "\n",
       "    .dataframe tbody tr th {\n",
       "        vertical-align: top;\n",
       "    }\n",
       "\n",
       "    .dataframe thead th {\n",
       "        text-align: right;\n",
       "    }\n",
       "</style>\n",
       "<table border=\"1\" class=\"dataframe\">\n",
       "  <thead>\n",
       "    <tr style=\"text-align: right;\">\n",
       "      <th>work_accident</th>\n",
       "      <th>total_of_workers</th>\n",
       "      <th>percent_of_accident</th>\n",
       "    </tr>\n",
       "    <tr>\n",
       "      <th>average_montly_hours</th>\n",
       "      <th></th>\n",
       "      <th></th>\n",
       "    </tr>\n",
       "  </thead>\n",
       "  <tbody>\n",
       "    <tr>\n",
       "      <th>(50, 100]</th>\n",
       "      <td>67</td>\n",
       "      <td>23.880597</td>\n",
       "    </tr>\n",
       "    <tr>\n",
       "      <th>(150, 200]</th>\n",
       "      <td>3717</td>\n",
       "      <td>16.411084</td>\n",
       "    </tr>\n",
       "    <tr>\n",
       "      <th>(200, 250]</th>\n",
       "      <td>3536</td>\n",
       "      <td>15.639140</td>\n",
       "    </tr>\n",
       "    <tr>\n",
       "      <th>(250, 300]</th>\n",
       "      <td>2318</td>\n",
       "      <td>14.797239</td>\n",
       "    </tr>\n",
       "    <tr>\n",
       "      <th>(100, 150]</th>\n",
       "      <td>2261</td>\n",
       "      <td>14.329943</td>\n",
       "    </tr>\n",
       "  </tbody>\n",
       "</table>\n",
       "</div>"
      ],
      "text/plain": [
       "work_accident         total_of_workers  percent_of_accident\n",
       "average_montly_hours                                       \n",
       "(50, 100]                           67            23.880597\n",
       "(150, 200]                        3717            16.411084\n",
       "(200, 250]                        3536            15.639140\n",
       "(250, 300]                        2318            14.797239\n",
       "(100, 150]                        2261            14.329943"
      ]
     },
     "execution_count": 34,
     "metadata": {},
     "output_type": "execute_result"
    }
   ],
   "source": [
    "work_bins = [0,50,100,150,200,250,300]\n",
    "\n",
    "accident_by_hours_worked_df = (\n",
    "    df1.groupby([pd.cut(df1['average_montly_hours'],work_bins),'work_accident'])\n",
    "    .size()\n",
    "    .unstack()\n",
    ")\n",
    "\n",
    "accident_by_hours_worked_df['percent_of_accident'] = accident_by_hours_worked_df[1]*100 / (accident_by_hours_worked_df[0] + accident_by_hours_worked_df[1])\n",
    "accident_by_hours_worked_df['total_of_workers'] = (accident_by_hours_worked_df[0] + accident_by_hours_worked_df[1])\n",
    "\n",
    "(\n",
    "    accident_by_hours_worked_df[['total_of_workers','percent_of_accident']]\n",
    "    .fillna(0)\n",
    "    .sort_values(by='percent_of_accident',ascending=False)\n",
    "    .head(5)\n",
    ")"
   ]
  },
  {
   "cell_type": "code",
   "execution_count": 35,
   "metadata": {},
   "outputs": [
    {
     "data": {
      "text/html": [
       "<style type=\"text/css\">\n",
       "#T_56808_row0_col0 {\n",
       "  background-color: #4a98c9;\n",
       "  color: #f1f1f1;\n",
       "}\n",
       "#T_56808_row1_col0 {\n",
       "  background-color: #08306b;\n",
       "  color: #f1f1f1;\n",
       "}\n",
       "#T_56808_row2_col0 {\n",
       "  background-color: #084990;\n",
       "  color: #f1f1f1;\n",
       "}\n",
       "#T_56808_row3_col0 {\n",
       "  background-color: #084f99;\n",
       "  color: #f1f1f1;\n",
       "}\n",
       "#T_56808_row4_col0 {\n",
       "  background-color: #2272b6;\n",
       "  color: #f1f1f1;\n",
       "}\n",
       "#T_56808_row5_col0 {\n",
       "  background-color: #f7fbff;\n",
       "  color: #000000;\n",
       "}\n",
       "</style>\n",
       "<table id=\"T_56808\">\n",
       "  <thead>\n",
       "    <tr>\n",
       "      <th class=\"index_name level0\" >work_accident</th>\n",
       "      <th id=\"T_56808_level0_col0\" class=\"col_heading level0 col0\" >Percent of work accident</th>\n",
       "    </tr>\n",
       "    <tr>\n",
       "      <th class=\"index_name level0\" >number_project</th>\n",
       "      <th class=\"blank col0\" >&nbsp;</th>\n",
       "    </tr>\n",
       "  </thead>\n",
       "  <tbody>\n",
       "    <tr>\n",
       "      <th id=\"T_56808_level0_row0\" class=\"row_heading level0 row0\" >2</th>\n",
       "      <td id=\"T_56808_row0_col0\" class=\"data row0 col0\" >0.111252</td>\n",
       "    </tr>\n",
       "    <tr>\n",
       "      <th id=\"T_56808_level0_row1\" class=\"row_heading level0 row1\" >3</th>\n",
       "      <td id=\"T_56808_row1_col0\" class=\"data row1 col0\" >0.175852</td>\n",
       "    </tr>\n",
       "    <tr>\n",
       "      <th id=\"T_56808_level0_row2\" class=\"row_heading level0 row2\" >4</th>\n",
       "      <td id=\"T_56808_row2_col0\" class=\"data row2 col0\" >0.160651</td>\n",
       "    </tr>\n",
       "    <tr>\n",
       "      <th id=\"T_56808_level0_row3\" class=\"row_heading level0 row3\" >5</th>\n",
       "      <td id=\"T_56808_row3_col0\" class=\"data row3 col0\" >0.156740</td>\n",
       "    </tr>\n",
       "    <tr>\n",
       "      <th id=\"T_56808_level0_row4\" class=\"row_heading level0 row4\" >6</th>\n",
       "      <td id=\"T_56808_row4_col0\" class=\"data row4 col0\" >0.134383</td>\n",
       "    </tr>\n",
       "    <tr>\n",
       "      <th id=\"T_56808_level0_row5\" class=\"row_heading level0 row5\" >7</th>\n",
       "      <td id=\"T_56808_row5_col0\" class=\"data row5 col0\" >0.013793</td>\n",
       "    </tr>\n",
       "  </tbody>\n",
       "</table>\n"
      ],
      "text/plain": [
       "<pandas.io.formats.style.Styler at 0x24db11cbf80>"
      ]
     },
     "execution_count": 35,
     "metadata": {},
     "output_type": "execute_result"
    }
   ],
   "source": [
    "df1.groupby(['number_project'])['work_accident'].value_counts(normalize=True).unstack().drop(columns=0).rename(columns={1:'Percent of work accident'}).style.background_gradient(cmap='Blues',axis=0)"
   ]
  },
  {
   "cell_type": "code",
   "execution_count": 36,
   "metadata": {},
   "outputs": [
    {
     "data": {
      "text/html": [
       "<style type=\"text/css\">\n",
       "#T_378ba_row0_col0 {\n",
       "  background-color: #c4daee;\n",
       "  color: #000000;\n",
       "}\n",
       "#T_378ba_row1_col0 {\n",
       "  background-color: #e5eff9;\n",
       "  color: #000000;\n",
       "}\n",
       "#T_378ba_row2_col0 {\n",
       "  background-color: #f7fbff;\n",
       "  color: #000000;\n",
       "}\n",
       "#T_378ba_row3_col0 {\n",
       "  background-color: #f3f8fe;\n",
       "  color: #000000;\n",
       "}\n",
       "#T_378ba_row4_col0 {\n",
       "  background-color: #d3e3f3;\n",
       "  color: #000000;\n",
       "}\n",
       "#T_378ba_row5_col0 {\n",
       "  background-color: #f6faff;\n",
       "  color: #000000;\n",
       "}\n",
       "#T_378ba_row6_col0 {\n",
       "  background-color: #08306b;\n",
       "  color: #f1f1f1;\n",
       "}\n",
       "#T_378ba_row7_col0 {\n",
       "  background-color: #2a7ab9;\n",
       "  color: #f1f1f1;\n",
       "}\n",
       "</style>\n",
       "<table id=\"T_378ba\">\n",
       "  <thead>\n",
       "    <tr>\n",
       "      <th class=\"index_name level0\" >work_accident</th>\n",
       "      <th id=\"T_378ba_level0_col0\" class=\"col_heading level0 col0\" >Percent of work accident</th>\n",
       "    </tr>\n",
       "    <tr>\n",
       "      <th class=\"index_name level0\" >years_spent_company</th>\n",
       "      <th class=\"blank col0\" >&nbsp;</th>\n",
       "    </tr>\n",
       "  </thead>\n",
       "  <tbody>\n",
       "    <tr>\n",
       "      <th id=\"T_378ba_level0_row0\" class=\"row_heading level0 row0\" >2</th>\n",
       "      <td id=\"T_378ba_row0_col0\" class=\"data row0 col0\" >0.171821</td>\n",
       "    </tr>\n",
       "    <tr>\n",
       "      <th id=\"T_378ba_level0_row1\" class=\"row_heading level0 row1\" >3</th>\n",
       "      <td id=\"T_378ba_row1_col0\" class=\"data row1 col0\" >0.149711</td>\n",
       "    </tr>\n",
       "    <tr>\n",
       "      <th id=\"T_378ba_level0_row2\" class=\"row_heading level0 row2\" >4</th>\n",
       "      <td id=\"T_378ba_row2_col0\" class=\"data row2 col0\" >0.137656</td>\n",
       "    </tr>\n",
       "    <tr>\n",
       "      <th id=\"T_378ba_level0_row3\" class=\"row_heading level0 row3\" >5</th>\n",
       "      <td id=\"T_378ba_row3_col0\" class=\"data row3 col0\" >0.140301</td>\n",
       "    </tr>\n",
       "    <tr>\n",
       "      <th id=\"T_378ba_level0_row4\" class=\"row_heading level0 row4\" >6</th>\n",
       "      <td id=\"T_378ba_row4_col0\" class=\"data row4 col0\" >0.162362</td>\n",
       "    </tr>\n",
       "    <tr>\n",
       "      <th id=\"T_378ba_level0_row5\" class=\"row_heading level0 row5\" >7</th>\n",
       "      <td id=\"T_378ba_row5_col0\" class=\"data row5 col0\" >0.138298</td>\n",
       "    </tr>\n",
       "    <tr>\n",
       "      <th id=\"T_378ba_level0_row6\" class=\"row_heading level0 row6\" >8</th>\n",
       "      <td id=\"T_378ba_row6_col0\" class=\"data row6 col0\" >0.271605</td>\n",
       "    </tr>\n",
       "    <tr>\n",
       "      <th id=\"T_378ba_level0_row7\" class=\"row_heading level0 row7\" >10</th>\n",
       "      <td id=\"T_378ba_row7_col0\" class=\"data row7 col0\" >0.233645</td>\n",
       "    </tr>\n",
       "  </tbody>\n",
       "</table>\n"
      ],
      "text/plain": [
       "<pandas.io.formats.style.Styler at 0x24db1a76bd0>"
      ]
     },
     "execution_count": 36,
     "metadata": {},
     "output_type": "execute_result"
    }
   ],
   "source": [
    "df1.groupby(['years_spent_company'])['work_accident'].value_counts(normalize=True).unstack().drop(columns=0).rename(columns={1:'Percent of work accident'}).style.background_gradient(cmap='Blues',axis=0)"
   ]
  },
  {
   "cell_type": "code",
   "execution_count": 37,
   "metadata": {},
   "outputs": [
    {
     "data": {
      "text/html": [
       "<div>\n",
       "<style scoped>\n",
       "    .dataframe tbody tr th:only-of-type {\n",
       "        vertical-align: middle;\n",
       "    }\n",
       "\n",
       "    .dataframe tbody tr th {\n",
       "        vertical-align: top;\n",
       "    }\n",
       "\n",
       "    .dataframe thead th {\n",
       "        text-align: right;\n",
       "    }\n",
       "</style>\n",
       "<table border=\"1\" class=\"dataframe\">\n",
       "  <thead>\n",
       "    <tr style=\"text-align: right;\">\n",
       "      <th>work_accident</th>\n",
       "      <th>Percent of work accident</th>\n",
       "    </tr>\n",
       "    <tr>\n",
       "      <th>department</th>\n",
       "      <th></th>\n",
       "    </tr>\n",
       "  </thead>\n",
       "  <tbody>\n",
       "    <tr>\n",
       "      <th>RandD</th>\n",
       "      <td>0.171470</td>\n",
       "    </tr>\n",
       "    <tr>\n",
       "      <th>management</th>\n",
       "      <td>0.165138</td>\n",
       "    </tr>\n",
       "    <tr>\n",
       "      <th>support</th>\n",
       "      <td>0.164195</td>\n",
       "    </tr>\n",
       "    <tr>\n",
       "      <th>marketing</th>\n",
       "      <td>0.160475</td>\n",
       "    </tr>\n",
       "    <tr>\n",
       "      <th>product_mng</th>\n",
       "      <td>0.158892</td>\n",
       "    </tr>\n",
       "    <tr>\n",
       "      <th>sales</th>\n",
       "      <td>0.153751</td>\n",
       "    </tr>\n",
       "    <tr>\n",
       "      <th>technical</th>\n",
       "      <td>0.151070</td>\n",
       "    </tr>\n",
       "    <tr>\n",
       "      <th>IT</th>\n",
       "      <td>0.142418</td>\n",
       "    </tr>\n",
       "    <tr>\n",
       "      <th>accounting</th>\n",
       "      <td>0.140097</td>\n",
       "    </tr>\n",
       "    <tr>\n",
       "      <th>hr</th>\n",
       "      <td>0.133111</td>\n",
       "    </tr>\n",
       "  </tbody>\n",
       "</table>\n",
       "</div>"
      ],
      "text/plain": [
       "work_accident  Percent of work accident\n",
       "department                             \n",
       "RandD                          0.171470\n",
       "management                     0.165138\n",
       "support                        0.164195\n",
       "marketing                      0.160475\n",
       "product_mng                    0.158892\n",
       "sales                          0.153751\n",
       "technical                      0.151070\n",
       "IT                             0.142418\n",
       "accounting                     0.140097\n",
       "hr                             0.133111"
      ]
     },
     "execution_count": 37,
     "metadata": {},
     "output_type": "execute_result"
    }
   ],
   "source": [
    "df1.groupby(['department'])['work_accident'].value_counts(normalize=True).unstack().drop(columns=0).sort_values(by=1,ascending=False).rename(columns={1:'Percent of work accident'})"
   ]
  },
  {
   "cell_type": "markdown",
   "metadata": {},
   "source": [
    "# Promotion_last_5years column inspection"
   ]
  },
  {
   "cell_type": "code",
   "execution_count": 38,
   "metadata": {},
   "outputs": [
    {
     "data": {
      "text/plain": [
       "promotion_last_5years\n",
       "0    0.983071\n",
       "1    0.016929\n",
       "Name: proportion, dtype: float64"
      ]
     },
     "execution_count": 38,
     "metadata": {},
     "output_type": "execute_result"
    }
   ],
   "source": [
    "df1['promotion_last_5years'].value_counts(normalize=True)"
   ]
  },
  {
   "cell_type": "code",
   "execution_count": 39,
   "metadata": {},
   "outputs": [],
   "source": [
    "promotion_df = (\n",
    "    \n",
    "    pd.DataFrame(\n",
    "    df1[['promotion_last_5years','left']]\n",
    "    .groupby('promotion_last_5years')\n",
    "    .value_counts()\n",
    "    .unstack()\n",
    "    )\n",
    ")"
   ]
  },
  {
   "cell_type": "code",
   "execution_count": 40,
   "metadata": {},
   "outputs": [
    {
     "data": {
      "text/plain": [
       "<Axes: xlabel='promotion_last_5years'>"
      ]
     },
     "execution_count": 40,
     "metadata": {},
     "output_type": "execute_result"
    },
    {
     "data": {
      "image/png": "[encoded data removed]",
      "text/plain": [
       "<Figure size 640x480 with 1 Axes>"
      ]
     },
     "metadata": {},
     "output_type": "display_data"
    }
   ],
   "source": [
    "promotion_df.plot.bar(stacked=True)"
   ]
  },
  {
   "cell_type": "code",
   "execution_count": 41,
   "metadata": {},
   "outputs": [
    {
     "data": {
      "text/html": [
       "<div>\n",
       "<style scoped>\n",
       "    .dataframe tbody tr th:only-of-type {\n",
       "        vertical-align: middle;\n",
       "    }\n",
       "\n",
       "    .dataframe tbody tr th {\n",
       "        vertical-align: top;\n",
       "    }\n",
       "\n",
       "    .dataframe thead th {\n",
       "        text-align: right;\n",
       "    }\n",
       "</style>\n",
       "<table border=\"1\" class=\"dataframe\">\n",
       "  <thead>\n",
       "    <tr style=\"text-align: right;\">\n",
       "      <th>left</th>\n",
       "      <th>0</th>\n",
       "      <th>1</th>\n",
       "      <th>percent_left</th>\n",
       "    </tr>\n",
       "    <tr>\n",
       "      <th>promotion_last_5years</th>\n",
       "      <th></th>\n",
       "      <th></th>\n",
       "      <th></th>\n",
       "    </tr>\n",
       "  </thead>\n",
       "  <tbody>\n",
       "    <tr>\n",
       "      <th>0</th>\n",
       "      <td>9805</td>\n",
       "      <td>1983</td>\n",
       "      <td>0.168222</td>\n",
       "    </tr>\n",
       "    <tr>\n",
       "      <th>1</th>\n",
       "      <td>195</td>\n",
       "      <td>8</td>\n",
       "      <td>0.039409</td>\n",
       "    </tr>\n",
       "  </tbody>\n",
       "</table>\n",
       "</div>"
      ],
      "text/plain": [
       "left                      0     1  percent_left\n",
       "promotion_last_5years                          \n",
       "0                      9805  1983      0.168222\n",
       "1                       195     8      0.039409"
      ]
     },
     "execution_count": 41,
     "metadata": {},
     "output_type": "execute_result"
    }
   ],
   "source": [
    "promotion_df['percent_left'] = promotion_df[1] / (promotion_df[0]+promotion_df[1])\n",
    "promotion_df"
   ]
  },
  {
   "cell_type": "markdown",
   "metadata": {},
   "source": [
    "Based on data, employees that did not get a raise in the last 5 years seem to be much more likely to leave. Further investigation could be beneficial. Also, there doesn't seem to be a lot of promoting in Saliford Motors. Creating new echelons could bring a sense of progression to keep engagement high."
   ]
  },
  {
   "cell_type": "code",
   "execution_count": 42,
   "metadata": {},
   "outputs": [
    {
     "name": "stderr",
     "output_type": "stream",
     "text": [
      "C:\\Users\\max05\\AppData\\Local\\Temp\\ipykernel_7400\\3098094916.py:4: FutureWarning: The default of observed=False is deprecated and will be changed to True in a future version of pandas. Pass observed=False to retain current behavior or observed=True to adopt the future default and silence this warning.\n",
      "  df1.groupby([pd.cut(df1['last_evaluation'],bins),'promotion_last_5years'])\n"
     ]
    },
    {
     "data": {
      "text/html": [
       "<div>\n",
       "<style scoped>\n",
       "    .dataframe tbody tr th:only-of-type {\n",
       "        vertical-align: middle;\n",
       "    }\n",
       "\n",
       "    .dataframe tbody tr th {\n",
       "        vertical-align: top;\n",
       "    }\n",
       "\n",
       "    .dataframe thead th {\n",
       "        text-align: right;\n",
       "    }\n",
       "</style>\n",
       "<table border=\"1\" class=\"dataframe\">\n",
       "  <thead>\n",
       "    <tr style=\"text-align: right;\">\n",
       "      <th>promotion_last_5years</th>\n",
       "      <th>Number of promotions</th>\n",
       "      <th>count_of_employees</th>\n",
       "      <th>percent_promoted</th>\n",
       "    </tr>\n",
       "    <tr>\n",
       "      <th>last_evaluation</th>\n",
       "      <th></th>\n",
       "      <th></th>\n",
       "      <th></th>\n",
       "    </tr>\n",
       "  </thead>\n",
       "  <tbody>\n",
       "    <tr>\n",
       "      <th>(0.2, 0.4]</th>\n",
       "      <td>8</td>\n",
       "      <td>201</td>\n",
       "      <td>3.980100</td>\n",
       "    </tr>\n",
       "    <tr>\n",
       "      <th>(0.4, 0.6]</th>\n",
       "      <td>56</td>\n",
       "      <td>3622</td>\n",
       "      <td>1.546107</td>\n",
       "    </tr>\n",
       "    <tr>\n",
       "      <th>(0.6, 0.8]</th>\n",
       "      <td>77</td>\n",
       "      <td>3883</td>\n",
       "      <td>1.983003</td>\n",
       "    </tr>\n",
       "    <tr>\n",
       "      <th>(0.8, 1.0]</th>\n",
       "      <td>62</td>\n",
       "      <td>4285</td>\n",
       "      <td>1.446908</td>\n",
       "    </tr>\n",
       "  </tbody>\n",
       "</table>\n",
       "</div>"
      ],
      "text/plain": [
       "promotion_last_5years  Number of promotions  count_of_employees  \\\n",
       "last_evaluation                                                   \n",
       "(0.2, 0.4]                                8                 201   \n",
       "(0.4, 0.6]                               56                3622   \n",
       "(0.6, 0.8]                               77                3883   \n",
       "(0.8, 1.0]                               62                4285   \n",
       "\n",
       "promotion_last_5years  percent_promoted  \n",
       "last_evaluation                          \n",
       "(0.2, 0.4]                     3.980100  \n",
       "(0.4, 0.6]                     1.546107  \n",
       "(0.6, 0.8]                     1.983003  \n",
       "(0.8, 1.0]                     1.446908  "
      ]
     },
     "execution_count": 42,
     "metadata": {},
     "output_type": "execute_result"
    }
   ],
   "source": [
    "bins = [0.2,0.4,0.6,0.8,1]\n",
    "\n",
    "promotion_by_evaluation_df = (\n",
    "    df1.groupby([pd.cut(df1['last_evaluation'],bins),'promotion_last_5years'])\n",
    "    .size()\n",
    "    .unstack()\n",
    ")\n",
    "\n",
    "promotion_by_evaluation_df['count_of_employees'] = promotion_by_evaluation_df[1] + promotion_by_evaluation_df[0]\n",
    "promotion_by_evaluation_df['percent_promoted'] = promotion_by_evaluation_df[1]*100/(promotion_by_evaluation_df[0]+promotion_by_evaluation_df[1])\n",
    "\n",
    "(\n",
    "    promotion_by_evaluation_df\n",
    "    .drop(columns=[0])\n",
    "    .rename(columns={1:'Number of promotions'})\n",
    ")"
   ]
  },
  {
   "cell_type": "markdown",
   "metadata": {},
   "source": [
    "From further inspection, promotions do not appear to be related to employees last evaluation. It could be worth investigating why that is the case."
   ]
  },
  {
   "cell_type": "code",
   "execution_count": 43,
   "metadata": {},
   "outputs": [
    {
     "data": {
      "text/html": [
       "<div>\n",
       "<style scoped>\n",
       "    .dataframe tbody tr th:only-of-type {\n",
       "        vertical-align: middle;\n",
       "    }\n",
       "\n",
       "    .dataframe tbody tr th {\n",
       "        vertical-align: top;\n",
       "    }\n",
       "\n",
       "    .dataframe thead th {\n",
       "        text-align: right;\n",
       "    }\n",
       "</style>\n",
       "<table border=\"1\" class=\"dataframe\">\n",
       "  <thead>\n",
       "    <tr style=\"text-align: right;\">\n",
       "      <th>promotion_last_5years</th>\n",
       "      <th>percent_of_promotion_given</th>\n",
       "    </tr>\n",
       "    <tr>\n",
       "      <th>number_project</th>\n",
       "      <th></th>\n",
       "    </tr>\n",
       "  </thead>\n",
       "  <tbody>\n",
       "    <tr>\n",
       "      <th>4</th>\n",
       "      <td>0.020624</td>\n",
       "    </tr>\n",
       "    <tr>\n",
       "      <th>3</th>\n",
       "      <td>0.017614</td>\n",
       "    </tr>\n",
       "    <tr>\n",
       "      <th>6</th>\n",
       "      <td>0.015738</td>\n",
       "    </tr>\n",
       "    <tr>\n",
       "      <th>5</th>\n",
       "      <td>0.014778</td>\n",
       "    </tr>\n",
       "    <tr>\n",
       "      <th>2</th>\n",
       "      <td>0.012010</td>\n",
       "    </tr>\n",
       "    <tr>\n",
       "      <th>7</th>\n",
       "      <td>0.000000</td>\n",
       "    </tr>\n",
       "  </tbody>\n",
       "</table>\n",
       "</div>"
      ],
      "text/plain": [
       "promotion_last_5years  percent_of_promotion_given\n",
       "number_project                                   \n",
       "4                                        0.020624\n",
       "3                                        0.017614\n",
       "6                                        0.015738\n",
       "5                                        0.014778\n",
       "2                                        0.012010\n",
       "7                                        0.000000"
      ]
     },
     "execution_count": 43,
     "metadata": {},
     "output_type": "execute_result"
    }
   ],
   "source": [
    "(\n",
    "    df1.groupby(['number_project'])\n",
    "        ['promotion_last_5years']\n",
    "        .value_counts(normalize=True)\n",
    "        .unstack()\n",
    "        .fillna(0)\n",
    "        .sort_values(by=1,ascending=False)\n",
    "        .drop(columns=[0])\n",
    "        .rename(columns={1:'percent_of_promotion_given'})\n",
    ")"
   ]
  },
  {
   "cell_type": "markdown",
   "metadata": {},
   "source": [
    "# Salary column inspection"
   ]
  },
  {
   "cell_type": "code",
   "execution_count": 44,
   "metadata": {},
   "outputs": [
    {
     "data": {
      "text/html": [
       "<div>\n",
       "<style scoped>\n",
       "    .dataframe tbody tr th:only-of-type {\n",
       "        vertical-align: middle;\n",
       "    }\n",
       "\n",
       "    .dataframe tbody tr th {\n",
       "        vertical-align: top;\n",
       "    }\n",
       "\n",
       "    .dataframe thead th {\n",
       "        text-align: right;\n",
       "    }\n",
       "</style>\n",
       "<table border=\"1\" class=\"dataframe\">\n",
       "  <thead>\n",
       "    <tr style=\"text-align: right;\">\n",
       "      <th></th>\n",
       "      <th>proportion</th>\n",
       "    </tr>\n",
       "    <tr>\n",
       "      <th>salary</th>\n",
       "      <th></th>\n",
       "    </tr>\n",
       "  </thead>\n",
       "  <tbody>\n",
       "    <tr>\n",
       "      <th>low</th>\n",
       "      <td>0.478692</td>\n",
       "    </tr>\n",
       "    <tr>\n",
       "      <th>medium</th>\n",
       "      <td>0.438746</td>\n",
       "    </tr>\n",
       "    <tr>\n",
       "      <th>high</th>\n",
       "      <td>0.082562</td>\n",
       "    </tr>\n",
       "  </tbody>\n",
       "</table>\n",
       "</div>"
      ],
      "text/plain": [
       "        proportion\n",
       "salary            \n",
       "low       0.478692\n",
       "medium    0.438746\n",
       "high      0.082562"
      ]
     },
     "execution_count": 44,
     "metadata": {},
     "output_type": "execute_result"
    }
   ],
   "source": [
    "salary_proportion = pd.DataFrame(df1['salary'].value_counts(normalize=True))\n",
    "salary_proportion"
   ]
  },
  {
   "cell_type": "code",
   "execution_count": 45,
   "metadata": {},
   "outputs": [],
   "source": [
    "salary_df = (\n",
    "    pd.DataFrame(\n",
    "    df1[['salary','left']]\n",
    "    .groupby('salary')\n",
    "    .value_counts()\n",
    "    .unstack()\n",
    "    )\n",
    ")"
   ]
  },
  {
   "cell_type": "code",
   "execution_count": 46,
   "metadata": {},
   "outputs": [
    {
     "data": {
      "text/plain": [
       "<Axes: xlabel='salary'>"
      ]
     },
     "execution_count": 46,
     "metadata": {},
     "output_type": "execute_result"
    },
    {
     "data": {
      "image/png": "[encoded data removed]",
      "text/plain": [
       "<Figure size 640x480 with 1 Axes>"
      ]
     },
     "metadata": {},
     "output_type": "display_data"
    }
   ],
   "source": [
    "salary_df.plot.bar(stacked=True)"
   ]
  },
  {
   "cell_type": "markdown",
   "metadata": {},
   "source": [
    "We can see from the data that higher paid staff are more likely to stay."
   ]
  },
  {
   "cell_type": "markdown",
   "metadata": {},
   "source": [
    "# Department column inspection"
   ]
  },
  {
   "cell_type": "code",
   "execution_count": null,
   "metadata": {},
   "outputs": [],
   "source": []
  }
 ],
 "metadata": {
  "kernelspec": {
   "display_name": "data-science-env",
   "language": "python",
   "name": "python3"
  },
  "language_info": {
   "codemirror_mode": {
    "name": "ipython",
    "version": 3
   },
   "file_extension": ".py",
   "mimetype": "text/x-python",
   "name": "python",
   "nbconvert_exporter": "python",
   "pygments_lexer": "ipython3",
   "version": "3.12.4"
  }
 },
 "nbformat": 4,
 "nbformat_minor": 2
}
